{
 "cells": [
  {
   "cell_type": "code",
   "execution_count": 1,
   "metadata": {},
   "outputs": [
    {
     "data": {
      "text/html": [
       "\n",
       "        <div>\n",
       "            <p><b>SparkContext</b></p>\n",
       "\n",
       "            <p><a href=\"http://178.16.1.16:4040\">Spark UI</a></p>\n",
       "\n",
       "            <dl>\n",
       "              <dt>Version</dt>\n",
       "                <dd><code>v2.2.1</code></dd>\n",
       "              <dt>Master</dt>\n",
       "                <dd><code>local[*]</code></dd>\n",
       "              <dt>AppName</dt>\n",
       "                <dd><code>PySparkShell</code></dd>\n",
       "            </dl>\n",
       "        </div>\n",
       "        "
      ],
      "text/plain": [
       "<SparkContext master=local[*] appName=PySparkShell>"
      ]
     },
     "execution_count": 1,
     "metadata": {},
     "output_type": "execute_result"
    }
   ],
   "source": [
    "sc"
   ]
  },
  {
   "cell_type": "code",
   "execution_count": 2,
   "metadata": {},
   "outputs": [
    {
     "data": {
      "text/plain": [
       "['satisfaction_level,last_evaluation,number_project,average_montly_hours,time_spend_company,Work_accident,left,promotion_last_5years,Department,salary',\n",
       " '0.38,0.53,2,157,3,0,1,0,1,low',\n",
       " '0.8,0.86,5,262,6,0,1,0,1,medium',\n",
       " '0.11,0.88,7,272,4,0,1,0,1,medium',\n",
       " '0.72,0.87,5,223,5,0,1,0,1,low']"
      ]
     },
     "execution_count": 2,
     "metadata": {},
     "output_type": "execute_result"
    }
   ],
   "source": [
    "data=sc.textFile(\"HR_comma_sep_new.csv\")\n",
    "data.take(5)"
   ]
  },
  {
   "cell_type": "code",
   "execution_count": 3,
   "metadata": {},
   "outputs": [
    {
     "data": {
      "text/plain": [
       "'satisfaction_level,last_evaluation,number_project,average_montly_hours,time_spend_company,Work_accident,left,promotion_last_5years,Department,salary'"
      ]
     },
     "execution_count": 3,
     "metadata": {},
     "output_type": "execute_result"
    }
   ],
   "source": [
    "header=data.first()\n",
    "header"
   ]
  },
  {
   "cell_type": "code",
   "execution_count": 4,
   "metadata": {},
   "outputs": [
    {
     "data": {
      "text/plain": [
       "['0.38,0.53,2,157,3,0,1,0,1,low',\n",
       " '0.8,0.86,5,262,6,0,1,0,1,medium',\n",
       " '0.11,0.88,7,272,4,0,1,0,1,medium',\n",
       " '0.72,0.87,5,223,5,0,1,0,1,low',\n",
       " '0.37,0.52,2,159,3,0,1,0,1,low']"
      ]
     },
     "execution_count": 4,
     "metadata": {},
     "output_type": "execute_result"
    }
   ],
   "source": [
    "dataWOheader=data.filter(lambda x:x!=header)\n",
    "dataWOheader.take(5)"
   ]
  },
  {
   "cell_type": "code",
   "execution_count": 5,
   "metadata": {},
   "outputs": [
    {
     "data": {
      "text/plain": [
       "15000"
      ]
     },
     "execution_count": 5,
     "metadata": {},
     "output_type": "execute_result"
    }
   ],
   "source": [
    "dataWOheader.count()"
   ]
  },
  {
   "cell_type": "code",
   "execution_count": 6,
   "metadata": {},
   "outputs": [
    {
     "data": {
      "text/plain": [
       "[['0.38', '0.53', '2', '157', '3', '0', '1', '0', '1', 'low'],\n",
       " ['0.8', '0.86', '5', '262', '6', '0', '1', '0', '1', 'medium'],\n",
       " ['0.11', '0.88', '7', '272', '4', '0', '1', '0', '1', 'medium'],\n",
       " ['0.72', '0.87', '5', '223', '5', '0', '1', '0', '1', 'low'],\n",
       " ['0.37', '0.52', '2', '159', '3', '0', '1', '0', '1', 'low']]"
      ]
     },
     "execution_count": 6,
     "metadata": {},
     "output_type": "execute_result"
    }
   ],
   "source": [
    "dataWOheader.map(lambda x:x.split(\",\")).take(5)"
   ]
  },
  {
   "cell_type": "code",
   "execution_count": 7,
   "metadata": {},
   "outputs": [
    {
     "data": {
      "text/plain": [
       "['satisfaction_level',\n",
       " 'last_evaluation',\n",
       " 'number_project',\n",
       " 'average_montly_hours',\n",
       " 'time_spend_company',\n",
       " 'Work_accident',\n",
       " 'left',\n",
       " 'promotion_last_5years',\n",
       " 'Department',\n",
       " 'salary']"
      ]
     },
     "execution_count": 7,
     "metadata": {},
     "output_type": "execute_result"
    }
   ],
   "source": [
    "fields=header.replace(\" \",\"_\").replace(\"/\",\"_\").split(\",\")\n",
    "fields"
   ]
  },
  {
   "cell_type": "code",
   "execution_count": 8,
   "metadata": {},
   "outputs": [
    {
     "name": "stdout",
     "output_type": "stream",
     "text": [
      "from builtins import property as _property, tuple as _tuple\n",
      "from operator import itemgetter as _itemgetter\n",
      "from collections import OrderedDict\n",
      "\n",
      "class HRdata(tuple):\n",
      "    'HRdata(satisfaction_level, last_evaluation, number_project, average_montly_hours, time_spend_company, Work_accident, left, promotion_last_5years, Department, salary)'\n",
      "\n",
      "    __slots__ = ()\n",
      "\n",
      "    _fields = ('satisfaction_level', 'last_evaluation', 'number_project', 'average_montly_hours', 'time_spend_company', 'Work_accident', 'left', 'promotion_last_5years', 'Department', 'salary')\n",
      "\n",
      "    def __new__(_cls, satisfaction_level, last_evaluation, number_project, average_montly_hours, time_spend_company, Work_accident, left, promotion_last_5years, Department, salary):\n",
      "        'Create new instance of HRdata(satisfaction_level, last_evaluation, number_project, average_montly_hours, time_spend_company, Work_accident, left, promotion_last_5years, Department, salary)'\n",
      "        return _tuple.__new__(_cls, (satisfaction_level, last_evaluation, number_project, average_montly_hours, time_spend_company, Work_accident, left, promotion_last_5years, Department, salary))\n",
      "\n",
      "    @classmethod\n",
      "    def _make(cls, iterable, new=tuple.__new__, len=len):\n",
      "        'Make a new HRdata object from a sequence or iterable'\n",
      "        result = new(cls, iterable)\n",
      "        if len(result) != 10:\n",
      "            raise TypeError('Expected 10 arguments, got %d' % len(result))\n",
      "        return result\n",
      "\n",
      "    def _replace(_self, **kwds):\n",
      "        'Return a new HRdata object replacing specified fields with new values'\n",
      "        result = _self._make(map(kwds.pop, ('satisfaction_level', 'last_evaluation', 'number_project', 'average_montly_hours', 'time_spend_company', 'Work_accident', 'left', 'promotion_last_5years', 'Department', 'salary'), _self))\n",
      "        if kwds:\n",
      "            raise ValueError('Got unexpected field names: %r' % list(kwds))\n",
      "        return result\n",
      "\n",
      "    def __repr__(self):\n",
      "        'Return a nicely formatted representation string'\n",
      "        return self.__class__.__name__ + '(satisfaction_level=%r, last_evaluation=%r, number_project=%r, average_montly_hours=%r, time_spend_company=%r, Work_accident=%r, left=%r, promotion_last_5years=%r, Department=%r, salary=%r)' % self\n",
      "\n",
      "    def _asdict(self):\n",
      "        'Return a new OrderedDict which maps field names to their values.'\n",
      "        return OrderedDict(zip(self._fields, self))\n",
      "\n",
      "    def __getnewargs__(self):\n",
      "        'Return self as a plain tuple.  Used by copy and pickle.'\n",
      "        return tuple(self)\n",
      "\n",
      "    satisfaction_level = _property(_itemgetter(0), doc='Alias for field number 0')\n",
      "\n",
      "    last_evaluation = _property(_itemgetter(1), doc='Alias for field number 1')\n",
      "\n",
      "    number_project = _property(_itemgetter(2), doc='Alias for field number 2')\n",
      "\n",
      "    average_montly_hours = _property(_itemgetter(3), doc='Alias for field number 3')\n",
      "\n",
      "    time_spend_company = _property(_itemgetter(4), doc='Alias for field number 4')\n",
      "\n",
      "    Work_accident = _property(_itemgetter(5), doc='Alias for field number 5')\n",
      "\n",
      "    left = _property(_itemgetter(6), doc='Alias for field number 6')\n",
      "\n",
      "    promotion_last_5years = _property(_itemgetter(7), doc='Alias for field number 7')\n",
      "\n",
      "    Department = _property(_itemgetter(8), doc='Alias for field number 8')\n",
      "\n",
      "    salary = _property(_itemgetter(9), doc='Alias for field number 9')\n",
      "\n",
      "\n"
     ]
    }
   ],
   "source": [
    "from collections import namedtuple\n",
    "HRdata=namedtuple('HRdata',fields,verbose=True)"
   ]
  },
  {
   "cell_type": "code",
   "execution_count": 9,
   "metadata": {
    "collapsed": true
   },
   "outputs": [],
   "source": [
    "import csv\n",
    "from io import StringIO"
   ]
  },
  {
   "cell_type": "code",
   "execution_count": 10,
   "metadata": {
    "collapsed": true
   },
   "outputs": [],
   "source": [
    "def parse(row):\n",
    "    reader=csv.reader(StringIO(row))\n",
    "    row=next(reader)\n",
    "    return HRdata(*row)"
   ]
  },
  {
   "cell_type": "code",
   "execution_count": 11,
   "metadata": {
    "collapsed": true
   },
   "outputs": [],
   "source": [
    "HR=dataWOheader.map(parse)"
   ]
  },
  {
   "cell_type": "code",
   "execution_count": 12,
   "metadata": {},
   "outputs": [
    {
     "data": {
      "text/plain": [
       "HRdata(satisfaction_level='0.38', last_evaluation='0.53', number_project='2', average_montly_hours='157', time_spend_company='3', Work_accident='0', left='1', promotion_last_5years='0', Department='1', salary='low')"
      ]
     },
     "execution_count": 12,
     "metadata": {},
     "output_type": "execute_result"
    }
   ],
   "source": [
    "HR.first()"
   ]
  },
  {
   "cell_type": "code",
   "execution_count": 13,
   "metadata": {},
   "outputs": [
    {
     "data": {
      "text/plain": [
       "'0.38'"
      ]
     },
     "execution_count": 13,
     "metadata": {},
     "output_type": "execute_result"
    }
   ],
   "source": [
    "HR.first().satisfaction_level"
   ]
  },
  {
   "cell_type": "code",
   "execution_count": 14,
   "metadata": {},
   "outputs": [
    {
     "data": {
      "text/plain": [
       "defaultdict(int,\n",
       "            {'1': 4141,\n",
       "             '10': 787,\n",
       "             '2': 1227,\n",
       "             '3': 767,\n",
       "             '4': 739,\n",
       "             '5': 630,\n",
       "             '6': 858,\n",
       "             '7': 902,\n",
       "             '8': 2229,\n",
       "             '9': 2720})"
      ]
     },
     "execution_count": 14,
     "metadata": {},
     "output_type": "execute_result"
    }
   ],
   "source": [
    "HR.map(lambda x:x.Department).countByValue()"
   ]
  },
  {
   "cell_type": "markdown",
   "metadata": {},
   "source": [
    "1. Sales<br>\n",
    "2. IT<br>\n",
    "3. Accounting<br>\n",
    "4. Hr<br>\n",
    "5. Management<br>\n",
    "6. Marketing<br>\n",
    "7. Product_mng<br>\n",
    "8. Support<br>\n",
    "9. Technical<br>\n",
    "10. RandD<br>"
   ]
  },
  {
   "cell_type": "code",
   "execution_count": null,
   "metadata": {
    "collapsed": true
   },
   "outputs": [],
   "source": []
  }
 ],
 "metadata": {
  "kernelspec": {
   "display_name": "Python 3",
   "language": "python",
   "name": "python3"
  },
  "language_info": {
   "codemirror_mode": {
    "name": "ipython",
    "version": 3
   },
   "file_extension": ".py",
   "mimetype": "text/x-python",
   "name": "python",
   "nbconvert_exporter": "python",
   "pygments_lexer": "ipython3",
   "version": "3.6.3"
  }
 },
 "nbformat": 4,
 "nbformat_minor": 2
}
