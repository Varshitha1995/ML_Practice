{
 "cells": [
  {
   "cell_type": "markdown",
   "metadata": {
    "collapsed": true
   },
   "source": [
    "## Import new dataset"
   ]
  },
  {
   "cell_type": "code",
   "execution_count": 1,
   "metadata": {},
   "outputs": [
    {
     "data": {
      "text/plain": [
       "''"
      ]
     },
     "execution_count": 1,
     "metadata": {},
     "output_type": "execute_result"
    }
   ],
   "source": [
    "sc"
   ]
  },
  {
   "cell_type": "code",
   "execution_count": 3,
   "metadata": {},
   "outputs": [
    {
     "ename": "NameError",
     "evalue": "name 'sc' is not defined",
     "output_type": "error",
     "traceback": [
      "\u001b[0;31m---------------------------------------------------------------------------\u001b[0m",
      "\u001b[0;31mNameError\u001b[0m                                 Traceback (most recent call last)",
      "\u001b[0;32m<ipython-input-3-6d7beb7a0a22>\u001b[0m in \u001b[0;36m<module>\u001b[0;34m()\u001b[0m\n\u001b[0;32m----> 1\u001b[0;31m \u001b[0mdata\u001b[0m\u001b[0;34m=\u001b[0m\u001b[0msc\u001b[0m\u001b[0;34m.\u001b[0m\u001b[0mtextFile\u001b[0m\u001b[0;34m(\u001b[0m\u001b[0;34m\"complete.csv\"\u001b[0m\u001b[0;34m)\u001b[0m\u001b[0;34m\u001b[0m\u001b[0m\n\u001b[0m\u001b[1;32m      2\u001b[0m \u001b[0mdata\u001b[0m\u001b[0;34m.\u001b[0m\u001b[0mtake\u001b[0m\u001b[0;34m(\u001b[0m\u001b[0;36m5\u001b[0m\u001b[0;34m)\u001b[0m\u001b[0;34m\u001b[0m\u001b[0m\n",
      "\u001b[0;31mNameError\u001b[0m: name 'sc' is not defined"
     ]
    }
   ],
   "source": [
    "data=sc.textFile(\"complete.csv\")\n",
    "data.take(5)"
   ]
  },
  {
   "cell_type": "code",
   "execution_count": 3,
   "metadata": {},
   "outputs": [
    {
     "data": {
      "text/plain": [
       "complete.csv MapPartitionsRDD[1] at textFile at NativeMethodAccessorImpl.java:0"
      ]
     },
     "execution_count": 3,
     "metadata": {},
     "output_type": "execute_result"
    }
   ],
   "source": [
    "data"
   ]
  },
  {
   "cell_type": "code",
   "execution_count": 4,
   "metadata": {},
   "outputs": [
    {
     "data": {
      "text/plain": [
       "88679"
      ]
     },
     "execution_count": 4,
     "metadata": {},
     "output_type": "execute_result"
    }
   ],
   "source": [
    "data.count()"
   ]
  },
  {
   "cell_type": "markdown",
   "metadata": {
    "collapsed": true
   },
   "source": [
    "### Filter the header"
   ]
  },
  {
   "cell_type": "code",
   "execution_count": 5,
   "metadata": {},
   "outputs": [
    {
     "data": {
      "text/plain": [
       "'datetime,city,state,country,shape,duration (seconds),duration (hours/min),comments,date posted,latitude,longitude'"
      ]
     },
     "execution_count": 5,
     "metadata": {},
     "output_type": "execute_result"
    }
   ],
   "source": [
    "header=data.first()\n",
    "header"
   ]
  },
  {
   "cell_type": "code",
   "execution_count": 6,
   "metadata": {},
   "outputs": [
    {
     "data": {
      "text/plain": [
       "['10/10/1949 20:30,san marcos,tx,us,cylinder,2700,45 minutes,This event took place in early fall around 1949-50. It occurred after a Boy Scout meeting in the Baptist Church. The Baptist Church sit,4/27/2004,29.8830556,-97.9411111',\n",
       " '10/10/1949 21:00,lackland afb,tx,,light,7200,1-2 hrs,1949 Lackland AFB&#44 TX.  Lights racing across the sky &amp; making 90 degree turns on a dime.,12/16/2005,29.38421,-98.581082',\n",
       " '10/10/1955 17:00,chester (uk/england),,gb,circle,20,20 seconds,Green/Orange circular disc over Chester&#44 England,1/21/2008,53.2,-2.916667',\n",
       " '10/10/1956 21:00,edna,tx,us,circle,20,1/2 hour,My older brother and twin sister were leaving the only Edna theater at about 9 PM&#44...we had our bikes and I took a different route home,1/17/2004,28.9783333,-96.6458333',\n",
       " '10/10/1960 20:00,kaneohe,hi,us,light,900,15 minutes,AS a Marine 1st Lt. flying an FJ4B fighter/attack aircraft on a solo night exercise&#44 I was at 50&#44000&#39 in a &quot;clean&quot; aircraft (no ordinan,1/22/2004,21.4180556,-157.8036111']"
      ]
     },
     "execution_count": 6,
     "metadata": {},
     "output_type": "execute_result"
    }
   ],
   "source": [
    "dataWOheader=data.filter(lambda x: x != header)\n",
    "dataWOheader.take(5)"
   ]
  },
  {
   "cell_type": "code",
   "execution_count": 7,
   "metadata": {},
   "outputs": [
    {
     "data": {
      "text/plain": [
       "88678"
      ]
     },
     "execution_count": 7,
     "metadata": {},
     "output_type": "execute_result"
    }
   ],
   "source": [
    "dataWOheader.count()"
   ]
  },
  {
   "cell_type": "code",
   "execution_count": 8,
   "metadata": {},
   "outputs": [
    {
     "data": {
      "text/plain": [
       "[['10/10/1949 20:30',\n",
       "  'san marcos',\n",
       "  'tx',\n",
       "  'us',\n",
       "  'cylinder',\n",
       "  '2700',\n",
       "  '45 minutes',\n",
       "  'This event took place in early fall around 1949-50. It occurred after a Boy Scout meeting in the Baptist Church. The Baptist Church sit',\n",
       "  '4/27/2004',\n",
       "  '29.8830556',\n",
       "  '-97.9411111'],\n",
       " ['10/10/1949 21:00',\n",
       "  'lackland afb',\n",
       "  'tx',\n",
       "  '',\n",
       "  'light',\n",
       "  '7200',\n",
       "  '1-2 hrs',\n",
       "  '1949 Lackland AFB&#44 TX.  Lights racing across the sky &amp; making 90 degree turns on a dime.',\n",
       "  '12/16/2005',\n",
       "  '29.38421',\n",
       "  '-98.581082'],\n",
       " ['10/10/1955 17:00',\n",
       "  'chester (uk/england)',\n",
       "  '',\n",
       "  'gb',\n",
       "  'circle',\n",
       "  '20',\n",
       "  '20 seconds',\n",
       "  'Green/Orange circular disc over Chester&#44 England',\n",
       "  '1/21/2008',\n",
       "  '53.2',\n",
       "  '-2.916667'],\n",
       " ['10/10/1956 21:00',\n",
       "  'edna',\n",
       "  'tx',\n",
       "  'us',\n",
       "  'circle',\n",
       "  '20',\n",
       "  '1/2 hour',\n",
       "  'My older brother and twin sister were leaving the only Edna theater at about 9 PM&#44...we had our bikes and I took a different route home',\n",
       "  '1/17/2004',\n",
       "  '28.9783333',\n",
       "  '-96.6458333'],\n",
       " ['10/10/1960 20:00',\n",
       "  'kaneohe',\n",
       "  'hi',\n",
       "  'us',\n",
       "  'light',\n",
       "  '900',\n",
       "  '15 minutes',\n",
       "  'AS a Marine 1st Lt. flying an FJ4B fighter/attack aircraft on a solo night exercise&#44 I was at 50&#44000&#39 in a &quot;clean&quot; aircraft (no ordinan',\n",
       "  '1/22/2004',\n",
       "  '21.4180556',\n",
       "  '-157.8036111']]"
      ]
     },
     "execution_count": 8,
     "metadata": {},
     "output_type": "execute_result"
    }
   ],
   "source": [
    "dataWOheader.map(lambda x:x.split(\",\")).take(5)"
   ]
  },
  {
   "cell_type": "markdown",
   "metadata": {},
   "source": [
    "#### Get the header names"
   ]
  },
  {
   "cell_type": "code",
   "execution_count": 9,
   "metadata": {},
   "outputs": [
    {
     "data": {
      "text/plain": [
       "['datetime',\n",
       " 'city',\n",
       " 'state',\n",
       " 'country',\n",
       " 'shape',\n",
       " 'duration_seconds',\n",
       " 'duration_hours_min',\n",
       " 'comments',\n",
       " 'date_posted',\n",
       " 'latitude',\n",
       " 'longitude']"
      ]
     },
     "execution_count": 9,
     "metadata": {},
     "output_type": "execute_result"
    }
   ],
   "source": [
    "fields=header.replace(\" \",\"_\").replace(\"/\",\"_\").replace(\"(\",\"\").replace(\")\",\"\").split(\",\")\n",
    "fields"
   ]
  },
  {
   "cell_type": "code",
   "execution_count": 10,
   "metadata": {
    "collapsed": true
   },
   "outputs": [],
   "source": [
    "from collections import namedtuple"
   ]
  },
  {
   "cell_type": "markdown",
   "metadata": {},
   "source": [
    "#### Create a class for the data"
   ]
  },
  {
   "cell_type": "code",
   "execution_count": 11,
   "metadata": {},
   "outputs": [
    {
     "name": "stdout",
     "output_type": "stream",
     "text": [
      "from builtins import property as _property, tuple as _tuple\n",
      "from operator import itemgetter as _itemgetter\n",
      "from collections import OrderedDict\n",
      "\n",
      "class UFO(tuple):\n",
      "    'UFO(datetime, city, state, country, shape, duration_seconds, duration_hours_min, comments, date_posted, latitude, longitude)'\n",
      "\n",
      "    __slots__ = ()\n",
      "\n",
      "    _fields = ('datetime', 'city', 'state', 'country', 'shape', 'duration_seconds', 'duration_hours_min', 'comments', 'date_posted', 'latitude', 'longitude')\n",
      "\n",
      "    def __new__(_cls, datetime, city, state, country, shape, duration_seconds, duration_hours_min, comments, date_posted, latitude, longitude):\n",
      "        'Create new instance of UFO(datetime, city, state, country, shape, duration_seconds, duration_hours_min, comments, date_posted, latitude, longitude)'\n",
      "        return _tuple.__new__(_cls, (datetime, city, state, country, shape, duration_seconds, duration_hours_min, comments, date_posted, latitude, longitude))\n",
      "\n",
      "    @classmethod\n",
      "    def _make(cls, iterable, new=tuple.__new__, len=len):\n",
      "        'Make a new UFO object from a sequence or iterable'\n",
      "        result = new(cls, iterable)\n",
      "        if len(result) != 11:\n",
      "            raise TypeError('Expected 11 arguments, got %d' % len(result))\n",
      "        return result\n",
      "\n",
      "    def _replace(_self, **kwds):\n",
      "        'Return a new UFO object replacing specified fields with new values'\n",
      "        result = _self._make(map(kwds.pop, ('datetime', 'city', 'state', 'country', 'shape', 'duration_seconds', 'duration_hours_min', 'comments', 'date_posted', 'latitude', 'longitude'), _self))\n",
      "        if kwds:\n",
      "            raise ValueError('Got unexpected field names: %r' % list(kwds))\n",
      "        return result\n",
      "\n",
      "    def __repr__(self):\n",
      "        'Return a nicely formatted representation string'\n",
      "        return self.__class__.__name__ + '(datetime=%r, city=%r, state=%r, country=%r, shape=%r, duration_seconds=%r, duration_hours_min=%r, comments=%r, date_posted=%r, latitude=%r, longitude=%r)' % self\n",
      "\n",
      "    def _asdict(self):\n",
      "        'Return a new OrderedDict which maps field names to their values.'\n",
      "        return OrderedDict(zip(self._fields, self))\n",
      "\n",
      "    def __getnewargs__(self):\n",
      "        'Return self as a plain tuple.  Used by copy and pickle.'\n",
      "        return tuple(self)\n",
      "\n",
      "    datetime = _property(_itemgetter(0), doc='Alias for field number 0')\n",
      "\n",
      "    city = _property(_itemgetter(1), doc='Alias for field number 1')\n",
      "\n",
      "    state = _property(_itemgetter(2), doc='Alias for field number 2')\n",
      "\n",
      "    country = _property(_itemgetter(3), doc='Alias for field number 3')\n",
      "\n",
      "    shape = _property(_itemgetter(4), doc='Alias for field number 4')\n",
      "\n",
      "    duration_seconds = _property(_itemgetter(5), doc='Alias for field number 5')\n",
      "\n",
      "    duration_hours_min = _property(_itemgetter(6), doc='Alias for field number 6')\n",
      "\n",
      "    comments = _property(_itemgetter(7), doc='Alias for field number 7')\n",
      "\n",
      "    date_posted = _property(_itemgetter(8), doc='Alias for field number 8')\n",
      "\n",
      "    latitude = _property(_itemgetter(9), doc='Alias for field number 9')\n",
      "\n",
      "    longitude = _property(_itemgetter(10), doc='Alias for field number 10')\n",
      "\n",
      "\n"
     ]
    }
   ],
   "source": [
    "UFO=namedtuple('UFO',fields,verbose=True)"
   ]
  },
  {
   "cell_type": "markdown",
   "metadata": {},
   "source": [
    "### Copy the data contents into this class"
   ]
  },
  {
   "cell_type": "code",
   "execution_count": 12,
   "metadata": {
    "collapsed": true
   },
   "outputs": [],
   "source": [
    "import csv\n",
    "from io import StringIO"
   ]
  },
  {
   "cell_type": "code",
   "execution_count": 13,
   "metadata": {
    "collapsed": true
   },
   "outputs": [],
   "source": [
    "def parse(row):\n",
    "    reader=csv.reader(StringIO(row))\n",
    "    row=next(reader)\n",
    "    return UFO(*row)"
   ]
  },
  {
   "cell_type": "code",
   "execution_count": 14,
   "metadata": {
    "collapsed": true
   },
   "outputs": [],
   "source": [
    "ufoSighting=dataWOheader.map(parse)"
   ]
  },
  {
   "cell_type": "code",
   "execution_count": 15,
   "metadata": {},
   "outputs": [
    {
     "data": {
      "text/plain": [
       "UFO(datetime='10/10/1949 20:30', city='san marcos', state='tx', country='us', shape='cylinder', duration_seconds='2700', duration_hours_min='45 minutes', comments='This event took place in early fall around 1949-50. It occurred after a Boy Scout meeting in the Baptist Church. The Baptist Church sit', date_posted='4/27/2004', latitude='29.8830556', longitude='-97.9411111')"
      ]
     },
     "execution_count": 15,
     "metadata": {},
     "output_type": "execute_result"
    }
   ],
   "source": [
    "ufoSighting.first()"
   ]
  },
  {
   "cell_type": "code",
   "execution_count": 16,
   "metadata": {},
   "outputs": [
    {
     "data": {
      "text/plain": [
       "[UFO(datetime='10/10/1949 20:30', city='san marcos', state='tx', country='us', shape='cylinder', duration_seconds='2700', duration_hours_min='45 minutes', comments='This event took place in early fall around 1949-50. It occurred after a Boy Scout meeting in the Baptist Church. The Baptist Church sit', date_posted='4/27/2004', latitude='29.8830556', longitude='-97.9411111'),\n",
       " UFO(datetime='10/10/1949 21:00', city='lackland afb', state='tx', country='', shape='light', duration_seconds='7200', duration_hours_min='1-2 hrs', comments='1949 Lackland AFB&#44 TX.  Lights racing across the sky &amp; making 90 degree turns on a dime.', date_posted='12/16/2005', latitude='29.38421', longitude='-98.581082'),\n",
       " UFO(datetime='10/10/1955 17:00', city='chester (uk/england)', state='', country='gb', shape='circle', duration_seconds='20', duration_hours_min='20 seconds', comments='Green/Orange circular disc over Chester&#44 England', date_posted='1/21/2008', latitude='53.2', longitude='-2.916667'),\n",
       " UFO(datetime='10/10/1956 21:00', city='edna', state='tx', country='us', shape='circle', duration_seconds='20', duration_hours_min='1/2 hour', comments='My older brother and twin sister were leaving the only Edna theater at about 9 PM&#44...we had our bikes and I took a different route home', date_posted='1/17/2004', latitude='28.9783333', longitude='-96.6458333'),\n",
       " UFO(datetime='10/10/1960 20:00', city='kaneohe', state='hi', country='us', shape='light', duration_seconds='900', duration_hours_min='15 minutes', comments='AS a Marine 1st Lt. flying an FJ4B fighter/attack aircraft on a solo night exercise&#44 I was at 50&#44000&#39 in a &quot;clean&quot; aircraft (no ordinan', date_posted='1/22/2004', latitude='21.4180556', longitude='-157.8036111')]"
      ]
     },
     "execution_count": 16,
     "metadata": {},
     "output_type": "execute_result"
    }
   ],
   "source": [
    "ufoSighting.take(5)"
   ]
  },
  {
   "cell_type": "code",
   "execution_count": 17,
   "metadata": {},
   "outputs": [
    {
     "data": {
      "text/plain": [
       "'san marcos'"
      ]
     },
     "execution_count": 17,
     "metadata": {},
     "output_type": "execute_result"
    }
   ],
   "source": [
    "ufoSighting.first().city"
   ]
  },
  {
   "cell_type": "code",
   "execution_count": 18,
   "metadata": {},
   "outputs": [
    {
     "data": {
      "text/plain": [
       "defaultdict(int,\n",
       "            {'': 12365,\n",
       "             'au': 593,\n",
       "             'ca': 3266,\n",
       "             'de': 112,\n",
       "             'gb': 2050,\n",
       "             'us': 70292})"
      ]
     },
     "execution_count": 18,
     "metadata": {},
     "output_type": "execute_result"
    }
   ],
   "source": [
    "ufoSighting.map(lambda x:x.country).countByValue()"
   ]
  },
  {
   "cell_type": "code",
   "execution_count": 19,
   "metadata": {
    "collapsed": true
   },
   "outputs": [],
   "source": [
    "newUfo=ufoSighting.filter(lambda x: not (x.country==\"\"))"
   ]
  },
  {
   "cell_type": "code",
   "execution_count": 20,
   "metadata": {},
   "outputs": [
    {
     "data": {
      "text/plain": [
       "defaultdict(int, {'au': 593, 'ca': 3266, 'de': 112, 'gb': 2050, 'us': 70292})"
      ]
     },
     "execution_count": 20,
     "metadata": {},
     "output_type": "execute_result"
    }
   ],
   "source": [
    "newUfo.map(lambda x:x.country).countByValue()"
   ]
  },
  {
   "cell_type": "code",
   "execution_count": 21,
   "metadata": {},
   "outputs": [
    {
     "data": {
      "text/plain": [
       "'2004'"
      ]
     },
     "execution_count": 21,
     "metadata": {},
     "output_type": "execute_result"
    }
   ],
   "source": [
    "newUfo.first().date_posted[-4:]"
   ]
  },
  {
   "cell_type": "code",
   "execution_count": 22,
   "metadata": {},
   "outputs": [
    {
     "data": {
      "text/plain": [
       "defaultdict(int,\n",
       "            {'1998': 801,\n",
       "             '1999': 4156,\n",
       "             '2000': 2495,\n",
       "             '2001': 3018,\n",
       "             '2002': 3506,\n",
       "             '2003': 3894,\n",
       "             '2004': 4266,\n",
       "             '2005': 4450,\n",
       "             '2006': 3646,\n",
       "             '2007': 4195,\n",
       "             '2008': 4623,\n",
       "             '2009': 5139,\n",
       "             '2010': 3935,\n",
       "             '2011': 5115,\n",
       "             '2012': 7365,\n",
       "             '2013': 6873,\n",
       "             '2014': 2815})"
      ]
     },
     "execution_count": 22,
     "metadata": {},
     "output_type": "execute_result"
    }
   ],
   "source": [
    "newUfo.filter(lambda x:x.country=='us')\\\n",
    "    .map(lambda x:x.date_posted[-4:]).countByValue()"
   ]
  },
  {
   "cell_type": "code",
   "execution_count": 23,
   "metadata": {
    "collapsed": true
   },
   "outputs": [],
   "source": [
    "train_data,test_data=newUfo.randomSplit([.8,.2],seed=1234)"
   ]
  },
  {
   "cell_type": "code",
   "execution_count": 24,
   "metadata": {},
   "outputs": [
    {
     "data": {
      "text/plain": [
       "PythonRDD[15] at RDD at PythonRDD.scala:48"
      ]
     },
     "execution_count": 24,
     "metadata": {},
     "output_type": "execute_result"
    }
   ],
   "source": [
    "newUfo"
   ]
  },
  {
   "cell_type": "code",
   "execution_count": null,
   "metadata": {
    "collapsed": true
   },
   "outputs": [],
   "source": []
  }
 ],
 "metadata": {
  "kernelspec": {
   "display_name": "Python 3",
   "language": "python",
   "name": "python3"
  },
  "language_info": {
   "codemirror_mode": {
    "name": "ipython",
    "version": 3
   },
   "file_extension": ".py",
   "mimetype": "text/x-python",
   "name": "python",
   "nbconvert_exporter": "python",
   "pygments_lexer": "ipython3",
   "version": "3.6.3"
  }
 },
 "nbformat": 4,
 "nbformat_minor": 2
}
